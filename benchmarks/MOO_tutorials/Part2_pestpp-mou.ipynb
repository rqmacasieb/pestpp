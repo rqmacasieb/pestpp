{
 "cells": [
  {
   "cell_type": "markdown",
   "id": "984af293",
   "metadata": {},
   "source": [
    "# Pareto-ly Pleased: The Right Compromise in Decisions\n",
    "\n",
    "In many real-world problems, several factors influence decision-making. Often, these factors compete with each other as they have their own  interests or \"objective\". In groundwater management, for example, 'meeting the demand' (i.e., maximising pumping at production wells) often competes with 'propecting the environment' (i.e., minimising drawdown at groundwater-dependent ecosystems). Decision-making should consider the trade-off between these competing objective in an attempt to make everyone happy. Of course, we cannot please everyone, so we have to find a set of decisions which is the best compromise between competing interests -- this is the central idea for Multi-Objective Optimisation (MOO).\n",
    "\n",
    "This notebook is Part 1 of MOO Tutorials. Before we give you a walk-through on how to use MOO tools, we have to understand first the central concept in MOO, the Pareto optimality.\n",
    "\n",
    "For this tutorial, we will be using the Kursawe benchmark problem."
   ]
  },
  {
   "cell_type": "code",
   "execution_count": null,
   "id": "5bef47db",
   "metadata": {},
   "outputs": [],
   "source": []
  }
 ],
 "metadata": {
  "kernelspec": {
   "display_name": "base",
   "language": "python",
   "name": "python3"
  },
  "language_info": {
   "codemirror_mode": {
    "name": "ipython",
    "version": 3
   },
   "file_extension": ".py",
   "mimetype": "text/x-python",
   "name": "python",
   "nbconvert_exporter": "python",
   "pygments_lexer": "ipython3",
   "version": "3.11.4"
  }
 },
 "nbformat": 4,
 "nbformat_minor": 5
}
